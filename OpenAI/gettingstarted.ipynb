{
 "cells": [
  {
   "cell_type": "code",
   "execution_count": 2,
   "metadata": {},
   "outputs": [],
   "source": [
    "import os\n",
    "from dotenv import load_dotenv\n",
    "load_dotenv()\n",
    "\n",
    "os.environ['OPENAI_API_KEY'] = os.getenv(\"OPENAI_API_KEY\")\n",
    "os.environ['LANGCHAIN_API_KEY'] = os.getenv(\"LANGCHAIN_API_KEY\")\n",
    "os.environ['LANGCHAIN_TRACING_V2'] = \"true\"\n",
    "os.environ['LANGCHAIN_PROJECT'] = os.getenv(\"LANGCHAIN_PROJECT\")"
   ]
  },
  {
   "cell_type": "code",
   "execution_count": 5,
   "metadata": {},
   "outputs": [
    {
     "name": "stdout",
     "output_type": "stream",
     "text": [
      "client=<openai.resources.chat.completions.Completions object at 0x00000211B41B7FD0> async_client=<openai.resources.chat.completions.AsyncCompletions object at 0x00000211B41C2150> root_client=<openai.OpenAI object at 0x00000211B418E6D0> root_async_client=<openai.AsyncOpenAI object at 0x00000211B1D53710> model_name='gpt-4o' model_kwargs={} openai_api_key=SecretStr('**********')\n"
     ]
    }
   ],
   "source": [
    "from langchain_openai import ChatOpenAI\n",
    "llm = ChatOpenAI(model = 'gpt-4o')\n",
    "print(llm)"
   ]
  },
  {
   "cell_type": "code",
   "execution_count": 6,
   "metadata": {},
   "outputs": [
    {
     "data": {
      "text/plain": [
       "AIMessage(content='GenAI, short for Generative Artificial Intelligence, refers to a category of AI systems that generate new content, such as text, images, music, or even code. These systems leverage advanced machine learning models, particularly deep learning techniques, to create outputs that mimic human creativity and expression.\\n\\nKey examples of Generative AI models include:\\n\\n1. **GPT (Generative Pre-trained Transformer)**: Developed by OpenAI, GPT models are designed for natural language processing tasks. They can generate human-like text based on the input they receive, making them useful for applications such as chatbots, content creation, and language translation.\\n\\n2. **DALL-E**: Another creation by OpenAI, DALL-E is designed to generate images from textual descriptions. It combines language understanding with image generation capabilities.\\n\\n3. **GANs (Generative Adversarial Networks)**: GANs consist of two neural networks, a generator and a discriminator, that work in tandem to produce realistic images, videos, and other types of media. The generator creates content, while the discriminator evaluates it, and the two networks improve over time through this adversarial process.\\n\\n4. **Deepfakes**: These use generative models to create highly realistic but fake videos or audio recordings, often of people, by synthesizing their voices or faces.\\n\\nGenerative AI has a wide range of applications, including but not limited to:\\n\\n- **Content Creation**: Automating the generation of articles, stories, poems, or other written content.\\n- **Art and Design**: Creating original artwork, graphic designs, and even fashion designs.\\n- **Music Composition**: Generating new music tracks or assisting musicians in the creative process.\\n- **Gaming**: Creating characters, landscapes, and storylines for video games.\\n- **Personalization**: Tailoring content and recommendations to individual preferences.\\n\\nWhile Generative AI holds enormous potential, it also raises ethical and societal concerns, such as the potential for misuse in creating misinformation or deepfakes, copyright issues, and the need for transparency and accountability in AI-generated content.', additional_kwargs={'refusal': None}, response_metadata={'token_usage': {'completion_tokens': 416, 'prompt_tokens': 11, 'total_tokens': 427, 'completion_tokens_details': {'reasoning_tokens': 0}}, 'model_name': 'gpt-4o-2024-05-13', 'system_fingerprint': 'fp_25624ae3a5', 'finish_reason': 'stop', 'logprobs': None}, id='run-cb9f25cf-ca59-4bcd-bce9-0c36f23d1d31-0', usage_metadata={'input_tokens': 11, 'output_tokens': 416, 'total_tokens': 427})"
      ]
     },
     "execution_count": 6,
     "metadata": {},
     "output_type": "execute_result"
    }
   ],
   "source": [
    "llm.invoke('What is GenAI') #Basic Input and Answering"
   ]
  },
  {
   "cell_type": "code",
   "execution_count": 7,
   "metadata": {},
   "outputs": [],
   "source": [
    "from langchain_core.prompts import ChatPromptTemplate #Using Chat Prompt Template\n",
    "\n",
    "prompt = ChatPromptTemplate.from_messages(\n",
    "    [\n",
    "        (\"system\",\"You are an expert AI Engineer. Provide me answers based on the questions\"),\n",
    "        (\"user\",\"{input}\")\n",
    "    ]\n",
    ")"
   ]
  },
  {
   "cell_type": "code",
   "execution_count": 9,
   "metadata": {},
   "outputs": [
    {
     "name": "stdout",
     "output_type": "stream",
     "text": [
      "content=\"Certainly! Langsmith is a comprehensive toolset designed to enhance the development, evaluation, and debugging of applications built with large language models (LLMs). It offers a range of functionalities that streamline the process of working with LLMs, making it easier for developers to create robust, efficient, and reliable applications. Here are some key features and components of Langsmith:\\n\\n1. **Development Tools**: Langsmith provides a suite of development tools that assist in the creation and optimization of LLM applications. These tools can help with tasks such as prompt engineering, model fine-tuning, and integration with various APIs.\\n\\n2. **Evaluation Metrics**: One of the critical aspects of working with LLMs is evaluating their performance. Langsmith offers a range of evaluation metrics and methodologies to assess the quality, accuracy, and relevance of the model's outputs. This helps developers understand how well their models are performing and identify areas for improvement.\\n\\n3. **Debugging Capabilities**: Debugging LLM applications can be challenging due to the complexity and variability of language data. Langsmith includes sophisticated debugging tools that allow developers to trace errors, analyze model behavior, and identify the root causes of issues.\\n\\n4. **Version Control and Experiment Tracking**: Langsmith supports version control and experiment tracking, enabling developers to manage different versions of their models and keep track of various experiments. This is crucial for maintaining a systematic approach to model development and iteration.\\n\\n5. **Integration with Existing Workflows**: Langsmith is designed to integrate seamlessly with existing workflows and tools. Whether you're using popular machine learning frameworks, cloud services, or custom-built systems, Langsmith can be incorporated into your pipeline to enhance your LLM development process.\\n\\n6. **Community and Support**: Langsmith often comes with a strong community and support network, providing access to documentation, tutorials, forums, and customer support. This can be invaluable for developers seeking guidance or troubleshooting assistance.\\n\\nOverall, Langsmith aims to simplify the complexities of working with large language models, providing developers with the tools they need to build high-quality, reliable, and efficient LLM applications.\" additional_kwargs={'refusal': None} response_metadata={'token_usage': {'completion_tokens': 423, 'prompt_tokens': 33, 'total_tokens': 456, 'completion_tokens_details': {'reasoning_tokens': 0}}, 'model_name': 'gpt-4o-2024-05-13', 'system_fingerprint': 'fp_25624ae3a5', 'finish_reason': 'stop', 'logprobs': None} id='run-8267ab8a-6b78-4fe7-a1a8-abbae74c77a3-0' usage_metadata={'input_tokens': 33, 'output_tokens': 423, 'total_tokens': 456}\n"
     ]
    }
   ],
   "source": [
    "chain=prompt|llm #chaining\n",
    "response = chain.invoke({\"input\":\"Can you tell me about Langsmith?\"})\n",
    "print(response)"
   ]
  },
  {
   "cell_type": "code",
   "execution_count": 10,
   "metadata": {},
   "outputs": [
    {
     "name": "stdout",
     "output_type": "stream",
     "text": [
      "Certainly! As of my latest update, there isn't a specific, widely-recognized product or technology named \"Langsmith\" in the AI or tech industry. However, the name suggests it could potentially refer to a tool or platform related to language technology, given the \"Lang\" prefix, implying \"language\", and \"smith\", implying craftsmanship or creation.\n",
      "\n",
      "If \"Langsmith\" is a term you've encountered recently, it might refer to a new or niche product, company, or concept that has emerged after my last update. In that case, I would recommend checking recent sources like tech news websites, official company announcements, or industry blogs for the most current and accurate information.\n",
      "\n",
      "If you provide more context or details, I might be able to offer a more precise explanation or guide you on where to look for information!\n"
     ]
    }
   ],
   "source": [
    "from langchain_core.output_parsers import StrOutputParser #Using String output parser\n",
    "output_parser = StrOutputParser()\n",
    "chain = prompt|llm|output_parser\n",
    "\n",
    "response = chain.invoke({\"input\":\"Can you tell me about Langsmith?\"})\n",
    "print(response)"
   ]
  },
  {
   "cell_type": "code",
   "execution_count": null,
   "metadata": {},
   "outputs": [],
   "source": []
  }
 ],
 "metadata": {
  "kernelspec": {
   "display_name": "Python 3",
   "language": "python",
   "name": "python3"
  },
  "language_info": {
   "codemirror_mode": {
    "name": "ipython",
    "version": 3
   },
   "file_extension": ".py",
   "mimetype": "text/x-python",
   "name": "python",
   "nbconvert_exporter": "python",
   "pygments_lexer": "ipython3",
   "version": "3.11.9"
  }
 },
 "nbformat": 4,
 "nbformat_minor": 2
}
